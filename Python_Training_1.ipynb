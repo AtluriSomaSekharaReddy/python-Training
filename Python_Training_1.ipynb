{
 "cells": [
  {
   "cell_type": "code",
   "execution_count": 20,
   "id": "9426aff3",
   "metadata": {},
   "outputs": [
    {
     "name": "stdout",
     "output_type": "stream",
     "text": [
      "enter the string : Assvc\n",
      "enter the charecter to remove from string: s\n",
      "The string after removing given character : Avc\n"
     ]
    }
   ],
   "source": [
    "#Q1). Python program to remove given character from String.\n",
    "string=input(\"enter the string : \")\n",
    "letter=input(\"enter the charecter to remove from string: \")\n",
    "s=string.replace(letter,\"\")\n",
    "print(\"The string after removing given character :\",s)"
   ]
  },
  {
   "cell_type": "code",
   "execution_count": 1,
   "id": "abc09c7c",
   "metadata": {},
   "outputs": [],
   "source": [
    "# Q2). Python Program to count occurrence of a given characters in string. \n",
    "string=input(\"Enter the string : \")\n",
    "s=set(string)\n",
    "for i in s:\n",
    "    print(\"The occurrence of {} in string is {}\".format(i,string.count(i)))"
   ]
  },
  {
   "cell_type": "code",
   "execution_count": 9,
   "id": "11cc5770",
   "metadata": {},
   "outputs": [
    {
     "name": "stdout",
     "output_type": "stream",
     "text": [
      "Enter 1st string: eleven plus two\n",
      "Enter 2nd string: twelve plus one\n",
      "The given strings are Anagram\n"
     ]
    }
   ],
   "source": [
    "# Q3). Python Program to check if two Strings are Anagram. \n",
    "str_1=input(\"Enter 1st string: \")\n",
    "str_2=input(\"Enter 2nd string: \")\n",
    "temp=0\n",
    "for i in str_1:\n",
    "    if str_1.count(i)==str_2.count(i):\n",
    "        temp+=1\n",
    "    else:\n",
    "        print(\"The given strings are not an Anagram\")\n",
    "        break\n",
    "if (temp==len(str_1)):\n",
    "    print(\"The given strings are Anagram\")"
   ]
  },
  {
   "cell_type": "code",
   "execution_count": 1,
   "id": "52d29c42",
   "metadata": {},
   "outputs": [
    {
     "name": "stdout",
     "output_type": "stream",
     "text": [
      "Enter 1st string: trou\n",
      "Enter 2nd string: uootr\n",
      "The given strings are not an Anagram\n"
     ]
    }
   ],
   "source": [
    "# Q3). Python Program to check if two Strings are Anagram. \n",
    "str_1=input(\"Enter 1st string: \")\n",
    "str_2=input(\"Enter 2nd string: \")\n",
    "if sorted(str_1)==sorted(str_2):\n",
    "    print(\"The given strings are Anagram\")\n",
    "else:\n",
    "    print(\"The given strings are not an Anagram\")\n"
   ]
  },
  {
   "cell_type": "code",
   "execution_count": 2,
   "id": "5aa859bc",
   "metadata": {},
   "outputs": [
    {
     "name": "stdout",
     "output_type": "stream",
     "text": [
      "Enter 1st string: racecar\n",
      "Given strings are palindrome\n"
     ]
    }
   ],
   "source": [
    "# Q4). Python program to check a String is palindrome or not\n",
    "str_1=input(\"Enter 1st string: \")\n",
    "str_2=str_1[::-1]\n",
    "if str_1==str_2 :\n",
    "    print(\"Given strings are palindrome\")\n",
    "else:\n",
    "    print(\"Given strings are palindrome\")"
   ]
  },
  {
   "cell_type": "code",
   "execution_count": 9,
   "id": "184656b3",
   "metadata": {},
   "outputs": [
    {
     "name": "stdout",
     "output_type": "stream",
     "text": [
      "Enter the characterd\n",
      "Consonant\n"
     ]
    }
   ],
   "source": [
    "# Q5). Python program to check given character is vowel or consonant. \n",
    "letter_1=input(\"Enter the character\")\n",
    "l=[\"a\",\"e\",\"i\",\"o\",\"u\",\"A\",\"E\",\"I\",\"O\",\"U\"]\n",
    "if letter_1 in l:\n",
    "    print(\"Vovel\")\n",
    "else:\n",
    "    print(\"Consonant\")"
   ]
  },
  {
   "cell_type": "code",
   "execution_count": 18,
   "id": "ee20f0d2",
   "metadata": {},
   "outputs": [
    {
     "name": "stdout",
     "output_type": "stream",
     "text": [
      "Enter the character : 66\n",
      "Digit\n"
     ]
    }
   ],
   "source": [
    "# Q6). Python program to check given character is digit or not. \n",
    "char=(input(\"Enter the character : \"))\n",
    "s=\"1234567890\"\n",
    "temp=0\n",
    "for i in char:\n",
    "    if i in s:\n",
    "        temp+=1\n",
    "    else:\n",
    "        break\n",
    "if len(char)==temp:\n",
    "    print(\"Digit\")\n",
    "else:\n",
    "    print(\"Not a Digit\")"
   ]
  },
  {
   "cell_type": "code",
   "execution_count": 19,
   "id": "627aea70",
   "metadata": {},
   "outputs": [
    {
     "name": "stdout",
     "output_type": "stream",
     "text": [
      "Enter the character : ss6\n",
      "Not a Digit\n"
     ]
    }
   ],
   "source": [
    "# Q7). Python program to check given character is digit or not using isdigit() method\n",
    "char=(input(\"Enter the character : \"))\n",
    "if char.isdigit()==True :\n",
    "    print(\"Digit\")\n",
    "else:\n",
    "    print(\"Not a Digit\")"
   ]
  },
  {
   "cell_type": "code",
   "execution_count": 23,
   "id": "feffad16",
   "metadata": {},
   "outputs": [
    {
     "name": "stdout",
     "output_type": "stream",
     "text": [
      "Enter the string : Hai Hello\n",
      "Enter the character....\n",
      "Hai....Hello\n"
     ]
    }
   ],
   "source": [
    "# Q8). Python program to replace the string space with a given character. \n",
    "# Q9). Python program to replace the string space with a given character using replace() method. \n",
    "str_1=input(\"Enter the string : \")\n",
    "char=input(\"Enter the character\")\n",
    "str_1=str_1.replace(\" \",char)\n",
    "print(str_1)"
   ]
  },
  {
   "cell_type": "code",
   "execution_count": 4,
   "id": "7d796158",
   "metadata": {},
   "outputs": [
    {
     "name": "stdout",
     "output_type": "stream",
     "text": [
      "Enter the string : Suiop\n",
      "SUIOP\n"
     ]
    }
   ],
   "source": [
    "# Q10). Python program to convert lowercase char to uppercase of string. \n",
    "str_1=input(\"Enter the string : \")\n",
    "str_2=\"\"\n",
    "for i in str_1:\n",
    "    str_2+=i.upper()\n",
    "print(str_2)\n"
   ]
  },
  {
   "cell_type": "code",
   "execution_count": 22,
   "id": "9dff4f6d",
   "metadata": {},
   "outputs": [
    {
     "name": "stdout",
     "output_type": "stream",
     "text": [
      "Enter the string : aeiou\n",
      "AEIOU\n"
     ]
    }
   ],
   "source": [
    "# Q11). Python program to convert lowercase vowel to uppercase in string. \n",
    "str_1=input(\"Enter the string : \")\n",
    "v=\"aeiou\"\n",
    "for i in str_1:\n",
    "    if i in v:\n",
    "        str_1=str_1.replace(i,i.upper())\n",
    "print(str_1)"
   ]
  },
  {
   "cell_type": "code",
   "execution_count": 30,
   "id": "c1260a02",
   "metadata": {},
   "outputs": [
    {
     "name": "stdout",
     "output_type": "stream",
     "text": [
      "Enter the missing num :33\n",
      "The missing number is : 33\n"
     ]
    }
   ],
   "source": [
    "#  Q12). Write a program in Python for, In array 1-100\n",
    "# numbers are stored, one number is missing how do you find it.\n",
    "l=[i for i in range(1,100)]\n",
    "l.remove(int(input(\"Enter the missing num :\")))\n",
    "sum_l=sum(l)\n",
    "max_l=len(l)+1\n",
    "missing_num=(max_l*(max_l+1))//2-sum_l \n",
    "print(\"The missing number is :\",missing_num)"
   ]
  },
  {
   "cell_type": "code",
   "execution_count": 32,
   "id": "2003660b",
   "metadata": {},
   "outputs": [
    {
     "name": "stdout",
     "output_type": "stream",
     "text": [
      "3 contain 2 duplicates in given list\n",
      "5 contain 2 duplicates in given list\n",
      "6 contain 3 duplicates in given list\n"
     ]
    }
   ],
   "source": [
    "# Q13). Write a program in Python for, In a array \n",
    "# 1-100 multiple numbers are duplicates, how do you find it.\n",
    "l=[1,2,3,3,4,5,5,6,6,6]\n",
    "l_set=set(l)\n",
    "for i in l_set:\n",
    "    if l.count(i)>1:\n",
    "        print(\"{} contain {} duplicates in given list\".format(i,l.count(i)))"
   ]
  },
  {
   "cell_type": "code",
   "execution_count": 35,
   "id": "91d5bf7b",
   "metadata": {},
   "outputs": [
    {
     "name": "stdout",
     "output_type": "stream",
     "text": [
      "33\n",
      "sum of 0 : 33 is 33\n",
      "sum of 1 : 32 is 33\n",
      "sum of 2 : 31 is 33\n",
      "sum of 3 : 30 is 33\n",
      "sum of 4 : 29 is 33\n",
      "sum of 5 : 28 is 33\n",
      "sum of 6 : 27 is 33\n",
      "sum of 7 : 26 is 33\n",
      "sum of 8 : 25 is 33\n",
      "sum of 9 : 24 is 33\n",
      "sum of 10 : 23 is 33\n",
      "sum of 11 : 22 is 33\n",
      "sum of 12 : 21 is 33\n",
      "sum of 13 : 20 is 33\n",
      "sum of 14 : 19 is 33\n",
      "sum of 15 : 18 is 33\n",
      "sum of 16 : 17 is 33\n"
     ]
    }
   ],
   "source": [
    "# Q14). Write a program in Python for, How to find all pairs in array \n",
    "# of integers whose sum is equal to given number. \n",
    "l=[i for i in range (100)]\n",
    "n=int(input())\n",
    "for i in range(len(l)):\n",
    "    for j in range(i+1,len(l)):\n",
    "        if l[i]+l[j]==n:\n",
    "            print(\"sum of {} : {} is {}\".format(i,j,n))"
   ]
  },
  {
   "cell_type": "code",
   "execution_count": 36,
   "id": "f78a63e3",
   "metadata": {},
   "outputs": [
    {
     "name": "stdout",
     "output_type": "stream",
     "text": [
      "Yes\n"
     ]
    }
   ],
   "source": [
    "# Q15). Write a program in Python for, How to compare two array is equal in size or not.\n",
    "l1=[]\n",
    "l2=[]\n",
    "if len(l1)==len(l2):\n",
    "    print(\"Yes\")\n",
    "else:\n",
    "    print(\"NO\")"
   ]
  },
  {
   "cell_type": "code",
   "execution_count": 37,
   "id": "abfdd9b4",
   "metadata": {},
   "outputs": [
    {
     "name": "stdout",
     "output_type": "stream",
     "text": [
      "The smallest number in array is : 2\n",
      "The largest number in array is : 345678\n"
     ]
    }
   ],
   "source": [
    "# Q16). Write a program in Python to find largest and smallest number in array. \n",
    "l=[22,44,3,8,99,999,345678,8,2]\n",
    "print(\"The smallest number in array is :\",min(l))\n",
    "print(\"The largest number in array is :\",max(l))"
   ]
  },
  {
   "cell_type": "code",
   "execution_count": 49,
   "id": "623dce78",
   "metadata": {},
   "outputs": [
    {
     "name": "stdout",
     "output_type": "stream",
     "text": [
      "The second largest number in array is : 999\n"
     ]
    }
   ],
   "source": [
    "# Q17). Write a program in Python to find second highest number in an integer array. \n",
    "l=[22,44,3,8,99,999,345678,8,2,345678]\n",
    "l.sort()\n",
    "l2=list(set(l))\n",
    "l2.sort()\n",
    "print(\"The second largest number in array is :\",l2[-2])"
   ]
  },
  {
   "cell_type": "code",
   "execution_count": 52,
   "id": "5c6ef78f",
   "metadata": {},
   "outputs": [
    {
     "name": "stdout",
     "output_type": "stream",
     "text": [
      "The top two maximum number in array are : [999, 345678]\n"
     ]
    }
   ],
   "source": [
    "# Q18).,Q20). Write a program in Python to find top two maximum number in array? \n",
    "l=[22,44,3,8,99,999,345678,8,2,345678]\n",
    "l.sort()\n",
    "l2=list(set(l))\n",
    "l2.sort()\n",
    "print(\"The top two maximum number in array are :\",l2[len(l2)-2:])"
   ]
  },
  {
   "cell_type": "code",
   "execution_count": 53,
   "id": "b3a22a25",
   "metadata": {},
   "outputs": [
    {
     "name": "stdout",
     "output_type": "stream",
     "text": [
      "{33, 2, 99, 3, 999, 8, 44, 345678, 22}\n",
      "[33, 2, 99, 3, 999, 8, 44, 345678, 22]\n"
     ]
    }
   ],
   "source": [
    "# Q19). Write a program in Python to remove duplicate elements form array.\n",
    "l=[22,44,3,8,99,999,345678,8,2,345678,2,33,44,22]\n",
    "l2=set(l)\n",
    "print(l2)\n",
    "print(list(l2))"
   ]
  },
  {
   "cell_type": "code",
   "execution_count": 54,
   "id": "3b9a6142",
   "metadata": {},
   "outputs": [
    {
     "name": "stdout",
     "output_type": "stream",
     "text": [
      "[345678, 2, 8, 345678, 999, 99, 8, 3, 44, 22]\n"
     ]
    }
   ],
   "source": [
    "# Q21). Python program to print array in reverse Order. \n",
    "l=[22,44,3,8,99,999,345678,8,2,345678]\n",
    "print(l[::-1])"
   ]
  },
  {
   "cell_type": "code",
   "execution_count": 61,
   "id": "c010fd98",
   "metadata": {},
   "outputs": [
    {
     "name": "stdout",
     "output_type": "stream",
     "text": [
      "[345678, 2, 8, 345678, 999, 99, 8, 3, 44, 22]\n",
      "[345678, 2, 8, 345678, 999, 99, 8, 3, 44, 22]\n"
     ]
    }
   ],
   "source": [
    "# Q22). Python program to reverse an Array in two ways. \n",
    "l=[22,44,3,8,99,999,345678,8,2,345678]\n",
    "l2=[]\n",
    "for i in range (len(l)-1,-1,-1):\n",
    "    l2.append(l[i])\n",
    "print(l2)\n",
    "print(l[::-1])"
   ]
  },
  {
   "cell_type": "code",
   "execution_count": 62,
   "id": "fad7674f",
   "metadata": {},
   "outputs": [
    {
     "name": "stdout",
     "output_type": "stream",
     "text": [
      "10\n"
     ]
    }
   ],
   "source": [
    "# Q23). Python Program to calculate length of an array. \n",
    "l=[22,44,3,8,99,999,345678,8,2,345678]\n",
    "print(len(l))"
   ]
  },
  {
   "cell_type": "code",
   "execution_count": 63,
   "id": "5e472b52",
   "metadata": {},
   "outputs": [
    {
     "name": "stdout",
     "output_type": "stream",
     "text": [
      "[0, 1, 2, 3, 4, 5, 6, 7, 8, 9, 10, 11, 12, 13, 14, 15, 16, 17, 18, 19, 99]\n"
     ]
    }
   ],
   "source": [
    "# Q24). Python program to insert an element at end of an Array\n",
    "l=[i for i in range(20)]\n",
    "l.append(99)\n",
    "print(l)"
   ]
  },
  {
   "cell_type": "code",
   "execution_count": 9,
   "id": "811f868d",
   "metadata": {},
   "outputs": [
    {
     "data": {
      "text/plain": [
       "cars        BMW\n",
       "passings      3\n",
       "Name: 0, dtype: object"
      ]
     },
     "execution_count": 9,
     "metadata": {},
     "output_type": "execute_result"
    }
   ],
   "source": [
    "import pandas as pn\n",
    "mydataset = {\n",
    "  'cars': [\"BMW\", \"Volvo\", \"Ford\"],\n",
    "  'passings': [3, 7, 2]\n",
    "}\n",
    "pa=pn.DataFrame(mydataset)\n",
    "pa.loc[0]"
   ]
  },
  {
   "cell_type": "code",
   "execution_count": null,
   "id": "21da28db",
   "metadata": {},
   "outputs": [],
   "source": []
  }
 ],
 "metadata": {
  "kernelspec": {
   "display_name": "Python 3.9.12 ('base')",
   "language": "python",
   "name": "python3"
  },
  "language_info": {
   "codemirror_mode": {
    "name": "ipython",
    "version": 3
   },
   "file_extension": ".py",
   "mimetype": "text/x-python",
   "name": "python",
   "nbconvert_exporter": "python",
   "pygments_lexer": "ipython3",
   "version": "3.9.12"
  },
  "vscode": {
   "interpreter": {
    "hash": "ea0d4c3dba6ecc4d5965426d7a2257ede4767eb2a629c9ceaa9a5036579cf40f"
   }
  }
 },
 "nbformat": 4,
 "nbformat_minor": 5
}
